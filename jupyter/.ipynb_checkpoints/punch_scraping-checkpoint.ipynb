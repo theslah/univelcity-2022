{
 "cells": [
  {
   "cell_type": "code",
   "execution_count": 1,
   "id": "aed1c625",
   "metadata": {},
   "outputs": [],
   "source": [
    "import bs4\n",
    "import requests"
   ]
  },
  {
   "cell_type": "code",
   "execution_count": 2,
   "id": "056a9d5a",
   "metadata": {},
   "outputs": [],
   "source": [
    "soup = bs4.BeautifulSoup"
   ]
  },
  {
   "cell_type": "code",
   "execution_count": 4,
   "id": "ba7f5a48",
   "metadata": {},
   "outputs": [],
   "source": [
    "response = requests.get(\"https://punchng.com/ipob-denies-killing-kidnapping-monarchs-in-south-east/\")\n",
    "#response.text"
   ]
  },
  {
   "cell_type": "code",
   "execution_count": 5,
   "id": "77bab14c",
   "metadata": {},
   "outputs": [
    {
     "data": {
      "text/plain": [
       "[<p class=\"site-title\"><a href=\"https://punchng.com/\" rel=\"home\">Punch Newspapers</a></p>,\n",
       " <p>punchng.com © 1971-2020 The Punch newspaper</p>,\n",
       " <p>File photo: IPOB members.</p>,\n",
       " <p>The Indigenous People of Biafra has denied the reports that the Eastern Security Network has any involvement in the recent killings and kidnappings in the South East region.\n",
       " </p>,\n",
       " <p>In a statement on Tuesday, the Media and Publicity Secretary of IPOB, Emma Powerful, also denied a report that the ESN operatives were the ones who allegedly besieged the palace of Eze Emmanuel Eze Okeke of Amaifeke in Orlu Local Government Area of Imo State.\n",
       " </p>,\n",
       " <p>Powerful said, “It is true that we criticise some traitors among our people, including politicians, traditional rulers, president generals, and even fake religious leaders. Our condemnation of their unpatriotic actions against BIAFRA has not got to the level of going after any of them.\n",
       " </p>,\n",
       " <p>“Maybe, very soon this group of people behind the bloodletting in our land will start going after religious leaders and blame their abominable act on IPOB and ESN.”</p>,\n",
       " <p>He added that the group, as led by Mazi Nnamdi Kanu, fights for freedom and is only interested in the emancipation of its people from slavery.\n",
       " </p>,\n",
       " <p>Powerful continued, “For the umpteenth time, IPOB and ESN have no hands in the spate of killings and abductions in any part of BIAFRA land. Such barbarity is not part of our mandate.\n",
       " </p>,\n",
       " <p>“The security agencies and their criminal recruits are behind it in their desperation to demonise IPOB. The recent confession by Senator Rochas Okorocha has vindicated us. Some wicked people in power, in collaboration with the security agencies, are the masterminds of the insecurity in our land.\n",
       " </p>,\n",
       " <p>“There is a report that the security agents repelled ESN operatives who allegedly besieged the palace of Eze Emmanuel Eze Okeke of Amaifeke in Orlu LGA Imo State. This is another blatant lie from the pit of hell. IPOB/ESN operatives have no issues with traditional rulers in Biafraland but Nigeria Army and the police are trying to create the wrong impression that we are hunting the monarchs.”</p>,\n",
       " <p>He disclosed that some state governors have started using the Ebubeagu security outfit to kill and burn down properties belonging to their political opponents and they must be made to account for these atrocities.\n",
       " </p>,\n",
       " <p>The statement also added, “Any state in Biafra territory operating with Ebubeagu security must consider themselves an enemy of the people because Ebubeagu is now raping our women and claiming it is soldiers from the North. How could the so-called Ebubeagu security outfit decide to be raping our mothers and sisters and think they are our people?\n",
       " </p>,\n",
       " <p>“If they are truly Igbo people, they won’t tamper with our ladies for any reason, but they will focus on pursuing Fulani terrorists herdsmen terrorising our people in the bushes and forests. But because these bunch of criminals know that they are not Igbo people, they will do whatever they like to humiliate our women in the name of security.\n",
       " </p>,\n",
       " <p>“Many buildings have been burnt down in Umutanze, Amaifeke in Orlu, and Orsu by Ebubeagu in conjunction with Nigeria compromised security agents in Imo State. This madness must stop.”\n",
       " </p>,\n",
       " <p style=\"text-align: justify;\"><strong>Copyright PUNCH.</strong></p>,\n",
       " <p style=\"text-align: justify;\"><em>All rights reserved. This material, and other digital content on this website, may not be reproduced, published, broadcast, rewritten or redistributed in whole or in part without prior express written permission from PUNCH. </em></p>,\n",
       " <p style=\"text-align: justify;\"><strong>Contact: </strong><a href=\"/cdn-cgi/l/email-protection#77031f1212131e03180537070219141f19105914181a\"><strong><span class=\"__cf_email__\" data-cfemail=\"fe8a969b9b9a978a918cbe8e8b909d969099d09d9193\">[email protected]</span></strong></a>\n",
       " </p>,\n",
       " <p class=\"site-info\">punchng.com © 1971-2022 The Punch Newspaper</p>,\n",
       " <p>By submitting you agree to our <span class=\"privacy\"><a href=\"https://punchng.com/privacy-policy/\">privacy policy</a></span></p>]"
      ]
     },
     "execution_count": 5,
     "metadata": {},
     "output_type": "execute_result"
    }
   ],
   "source": [
    "categories = soup(response.text).find_all(\"p\")\n",
    "categories"
   ]
  },
  {
   "cell_type": "code",
   "execution_count": 6,
   "id": "2f8c7068",
   "metadata": {},
   "outputs": [
    {
     "name": "stdout",
     "output_type": "stream",
     "text": [
      "Punch Newspapers\n",
      "punchng.com © 1971-2020 The Punch newspaper\n",
      "File photo: IPOB members.\n",
      "The Indigenous People of Biafra has denied the reports that the Eastern Security Network has any involvement in the recent killings and kidnappings in the South East region.\n",
      "\n",
      "In a statement on Tuesday, the Media and Publicity Secretary of IPOB, Emma Powerful, also denied a report that the ESN operatives were the ones who allegedly besieged the palace of Eze Emmanuel Eze Okeke of Amaifeke in Orlu Local Government Area of Imo State.\n",
      "\n",
      "Powerful said, “It is true that we criticise some traitors among our people, including politicians, traditional rulers, president generals, and even fake religious leaders. Our condemnation of their unpatriotic actions against BIAFRA has not got to the level of going after any of them.\n",
      "\n",
      "“Maybe, very soon this group of people behind the bloodletting in our land will start going after religious leaders and blame their abominable act on IPOB and ESN.”\n",
      "He added that the group, as led by Mazi Nnamdi Kanu, fights for freedom and is only interested in the emancipation of its people from slavery.\n",
      "\n",
      "Powerful continued, “For the umpteenth time, IPOB and ESN have no hands in the spate of killings and abductions in any part of BIAFRA land. Such barbarity is not part of our mandate.\n",
      "\n",
      "“The security agencies and their criminal recruits are behind it in their desperation to demonise IPOB. The recent confession by Senator Rochas Okorocha has vindicated us. Some wicked people in power, in collaboration with the security agencies, are the masterminds of the insecurity in our land.\n",
      "\n",
      "“There is a report that the security agents repelled ESN operatives who allegedly besieged the palace of Eze Emmanuel Eze Okeke of Amaifeke in Orlu LGA Imo State. This is another blatant lie from the pit of hell. IPOB/ESN operatives have no issues with traditional rulers in Biafraland but Nigeria Army and the police are trying to create the wrong impression that we are hunting the monarchs.”\n",
      "He disclosed that some state governors have started using the Ebubeagu security outfit to kill and burn down properties belonging to their political opponents and they must be made to account for these atrocities.\n",
      "\n",
      "The statement also added, “Any state in Biafra territory operating with Ebubeagu security must consider themselves an enemy of the people because Ebubeagu is now raping our women and claiming it is soldiers from the North. How could the so-called Ebubeagu security outfit decide to be raping our mothers and sisters and think they are our people?\n",
      "\n",
      "“If they are truly Igbo people, they won’t tamper with our ladies for any reason, but they will focus on pursuing Fulani terrorists herdsmen terrorising our people in the bushes and forests. But because these bunch of criminals know that they are not Igbo people, they will do whatever they like to humiliate our women in the name of security.\n",
      "\n",
      "“Many buildings have been burnt down in Umutanze, Amaifeke in Orlu, and Orsu by Ebubeagu in conjunction with Nigeria compromised security agents in Imo State. This madness must stop.”\n",
      "\n",
      "Copyright PUNCH.\n",
      "All rights reserved. This material, and other digital content on this website, may not be reproduced, published, broadcast, rewritten or redistributed in whole or in part without prior express written permission from PUNCH. \n",
      "Contact: [email protected]\n",
      "\n",
      "punchng.com © 1971-2022 The Punch Newspaper\n",
      "By submitting you agree to our privacy policy\n"
     ]
    }
   ],
   "source": [
    "for category in categories:\n",
    "    print(category.text)"
   ]
  },
  {
   "cell_type": "code",
   "execution_count": null,
   "id": "bb13c951",
   "metadata": {},
   "outputs": [],
   "source": []
  }
 ],
 "metadata": {
  "kernelspec": {
   "display_name": "Python 3 (ipykernel)",
   "language": "python",
   "name": "python3"
  },
  "language_info": {
   "codemirror_mode": {
    "name": "ipython",
    "version": 3
   },
   "file_extension": ".py",
   "mimetype": "text/x-python",
   "name": "python",
   "nbconvert_exporter": "python",
   "pygments_lexer": "ipython3",
   "version": "3.7.9"
  }
 },
 "nbformat": 4,
 "nbformat_minor": 5
}
